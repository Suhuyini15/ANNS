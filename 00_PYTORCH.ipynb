{
  "nbformat": 4,
  "nbformat_minor": 0,
  "metadata": {
    "colab": {
      "provenance": [],
      "authorship_tag": "ABX9TyO/QEg54puYCBlz0KiR2CGs",
      "include_colab_link": true
    },
    "kernelspec": {
      "name": "python3",
      "display_name": "Python 3"
    },
    "language_info": {
      "name": "python"
    }
  },
  "cells": [
    {
      "cell_type": "markdown",
      "metadata": {
        "id": "view-in-github",
        "colab_type": "text"
      },
      "source": [
        "<a href=\"https://colab.research.google.com/github/Suhuyini15/ANNS/blob/main/00_PYTORCH.ipynb\" target=\"_parent\"><img src=\"https://colab.research.google.com/assets/colab-badge.svg\" alt=\"Open In Colab\"/></a>"
      ]
    },
    {
      "cell_type": "code",
      "execution_count": 1,
      "metadata": {
        "id": "bsTA2EA-pr8P",
        "colab": {
          "base_uri": "https://localhost:8080/"
        },
        "outputId": "f58aa23c-dfdc-45f3-e441-a6b7bbb52abf"
      },
      "outputs": [
        {
          "output_type": "stream",
          "name": "stdout",
          "text": [
            "2.8.0+cu126\n"
          ]
        }
      ],
      "source": [
        "import torch\n",
        "import pandas as pd\n",
        "import numpy as np\n",
        "import matplotlib.pyplot as plt\n",
        "print(torch.__version__)"
      ]
    },
    {
      "cell_type": "markdown",
      "source": [
        "CREATING TENSORS\n"
      ],
      "metadata": {
        "id": "cvTAtr3r1JMS"
      }
    },
    {
      "cell_type": "code",
      "source": [
        "#SCALAR\n",
        "\n",
        "scalar = torch.tensor(7)\n",
        "scalar"
      ],
      "metadata": {
        "colab": {
          "base_uri": "https://localhost:8080/"
        },
        "id": "vSZw_x4wzzwp",
        "outputId": "ae198871-dbe6-4d91-ee4f-31e7fc378c92"
      },
      "execution_count": 2,
      "outputs": [
        {
          "output_type": "execute_result",
          "data": {
            "text/plain": [
              "tensor(7)"
            ]
          },
          "metadata": {},
          "execution_count": 2
        }
      ]
    },
    {
      "cell_type": "code",
      "source": [
        "scalar.ndim"
      ],
      "metadata": {
        "id": "ejP9Vgrx2msE",
        "colab": {
          "base_uri": "https://localhost:8080/"
        },
        "outputId": "40e14be2-8139-464b-d656-91593ad015d6"
      },
      "execution_count": 3,
      "outputs": [
        {
          "output_type": "execute_result",
          "data": {
            "text/plain": [
              "0"
            ]
          },
          "metadata": {},
          "execution_count": 3
        }
      ]
    },
    {
      "cell_type": "code",
      "source": [
        "#gET TENSOR AS PYTHON int\n",
        "scalar.item()"
      ],
      "metadata": {
        "colab": {
          "base_uri": "https://localhost:8080/"
        },
        "id": "6-_KspnbKrq8",
        "outputId": "096dd0a8-c553-4288-8687-0a3922c6a716"
      },
      "execution_count": 4,
      "outputs": [
        {
          "output_type": "execute_result",
          "data": {
            "text/plain": [
              "7"
            ]
          },
          "metadata": {},
          "execution_count": 4
        }
      ]
    },
    {
      "cell_type": "code",
      "source": [
        "#VECTOR\n",
        "vector = torch.tensor([2,6])\n",
        "vector"
      ],
      "metadata": {
        "colab": {
          "base_uri": "https://localhost:8080/"
        },
        "id": "i52tMCPNK0lo",
        "outputId": "b81ce292-4a89-4be2-e78c-12aa061631c4"
      },
      "execution_count": 5,
      "outputs": [
        {
          "output_type": "execute_result",
          "data": {
            "text/plain": [
              "tensor([2, 6])"
            ]
          },
          "metadata": {},
          "execution_count": 5
        }
      ]
    },
    {
      "cell_type": "code",
      "source": [
        "vector.ndim"
      ],
      "metadata": {
        "colab": {
          "base_uri": "https://localhost:8080/"
        },
        "id": "8a8dqjoTL8OD",
        "outputId": "fe92db6f-1f16-4608-a1a9-61ea317a86ff"
      },
      "execution_count": 6,
      "outputs": [
        {
          "output_type": "execute_result",
          "data": {
            "text/plain": [
              "1"
            ]
          },
          "metadata": {},
          "execution_count": 6
        }
      ]
    },
    {
      "cell_type": "code",
      "source": [
        "vector.shape"
      ],
      "metadata": {
        "colab": {
          "base_uri": "https://localhost:8080/"
        },
        "id": "vd-Q1bWdMDZZ",
        "outputId": "0a1a0971-50c0-4078-9378-c63d18ff61d3"
      },
      "execution_count": 7,
      "outputs": [
        {
          "output_type": "execute_result",
          "data": {
            "text/plain": [
              "torch.Size([2])"
            ]
          },
          "metadata": {},
          "execution_count": 7
        }
      ]
    },
    {
      "cell_type": "code",
      "source": [
        "#MATRIX\n",
        "MATRIX = torch.tensor([[7,8],\n",
        "                       [2,6]])\n",
        "\n",
        "MATRIX"
      ],
      "metadata": {
        "colab": {
          "base_uri": "https://localhost:8080/"
        },
        "id": "f2Vy6xeHMJfW",
        "outputId": "74c0614a-dbad-4e93-e26d-e6b1676299a9"
      },
      "execution_count": 8,
      "outputs": [
        {
          "output_type": "execute_result",
          "data": {
            "text/plain": [
              "tensor([[7, 8],\n",
              "        [2, 6]])"
            ]
          },
          "metadata": {},
          "execution_count": 8
        }
      ]
    },
    {
      "cell_type": "code",
      "source": [
        "MATRIX.ndim"
      ],
      "metadata": {
        "colab": {
          "base_uri": "https://localhost:8080/"
        },
        "id": "gg9NaG8DOZmg",
        "outputId": "bd2ce086-63a3-4a73-c370-8bc5c4a4593e"
      },
      "execution_count": 9,
      "outputs": [
        {
          "output_type": "execute_result",
          "data": {
            "text/plain": [
              "2"
            ]
          },
          "metadata": {},
          "execution_count": 9
        }
      ]
    },
    {
      "cell_type": "code",
      "source": [
        "MATRIX[1]"
      ],
      "metadata": {
        "colab": {
          "base_uri": "https://localhost:8080/"
        },
        "id": "B8WXFfLoQX6D",
        "outputId": "f70f9226-8378-4b9c-91a2-b8a8b259fc7b"
      },
      "execution_count": 10,
      "outputs": [
        {
          "output_type": "execute_result",
          "data": {
            "text/plain": [
              "tensor([2, 6])"
            ]
          },
          "metadata": {},
          "execution_count": 10
        }
      ]
    },
    {
      "cell_type": "code",
      "source": [
        "MATRIX.shape"
      ],
      "metadata": {
        "colab": {
          "base_uri": "https://localhost:8080/"
        },
        "id": "NH84nS5wQcRr",
        "outputId": "7b97edfe-6d32-4147-efcf-4951d19ddfd2"
      },
      "execution_count": 11,
      "outputs": [
        {
          "output_type": "execute_result",
          "data": {
            "text/plain": [
              "torch.Size([2, 2])"
            ]
          },
          "metadata": {},
          "execution_count": 11
        }
      ]
    },
    {
      "cell_type": "code",
      "source": [
        "TENSOR = torch.tensor([[[1, 2, 3],[5,9,1],\n",
        "                       [6,4,7]]])"
      ],
      "metadata": {
        "id": "CcRjumq0RDW4"
      },
      "execution_count": 12,
      "outputs": []
    },
    {
      "cell_type": "code",
      "source": [
        "TENSOR.ndim"
      ],
      "metadata": {
        "colab": {
          "base_uri": "https://localhost:8080/"
        },
        "id": "llESWfGfRr09",
        "outputId": "ed8adf00-ccf7-403c-faa4-0fe99dc739d5"
      },
      "execution_count": 13,
      "outputs": [
        {
          "output_type": "execute_result",
          "data": {
            "text/plain": [
              "3"
            ]
          },
          "metadata": {},
          "execution_count": 13
        }
      ]
    },
    {
      "cell_type": "code",
      "source": [
        "TENSOR.shape"
      ],
      "metadata": {
        "colab": {
          "base_uri": "https://localhost:8080/"
        },
        "id": "pUqhT-mWRuBt",
        "outputId": "428cd96a-382a-4031-f625-cd5ffd2f205e"
      },
      "execution_count": 14,
      "outputs": [
        {
          "output_type": "execute_result",
          "data": {
            "text/plain": [
              "torch.Size([1, 3, 3])"
            ]
          },
          "metadata": {},
          "execution_count": 14
        }
      ]
    },
    {
      "cell_type": "code",
      "source": [
        "TENSOR[0]"
      ],
      "metadata": {
        "colab": {
          "base_uri": "https://localhost:8080/"
        },
        "id": "GmHJW-SYSC7X",
        "outputId": "2fa2cf29-2e43-4831-84eb-066e02aea41d"
      },
      "execution_count": 15,
      "outputs": [
        {
          "output_type": "execute_result",
          "data": {
            "text/plain": [
              "tensor([[1, 2, 3],\n",
              "        [5, 9, 1],\n",
              "        [6, 4, 7]])"
            ]
          },
          "metadata": {},
          "execution_count": 15
        }
      ]
    },
    {
      "cell_type": "code",
      "source": [
        "MATRIX2 = torch.tensor([[[7,0,4],\n",
        "            [5,9,1],\n",
        "            [6,3,5]]])"
      ],
      "metadata": {
        "id": "xLKpR4NkSjUY"
      },
      "execution_count": 16,
      "outputs": []
    },
    {
      "cell_type": "code",
      "source": [
        "MATRIX2.ndim"
      ],
      "metadata": {
        "colab": {
          "base_uri": "https://localhost:8080/"
        },
        "id": "sLh6w-zUVIpL",
        "outputId": "c671adb8-6aad-4a18-8d7e-33bcc6ac1520"
      },
      "execution_count": 17,
      "outputs": [
        {
          "output_type": "execute_result",
          "data": {
            "text/plain": [
              "3"
            ]
          },
          "metadata": {},
          "execution_count": 17
        }
      ]
    },
    {
      "cell_type": "markdown",
      "source": [
        "RANDOM TENSORS"
      ],
      "metadata": {
        "id": "8LYGk1olyYCf"
      }
    },
    {
      "cell_type": "markdown",
      "source": [
        "Neural network pattern\n",
        "\n",
        "```\n",
        "Start with random numbers -> look at data -> update random numbers -> look at data -> update random numbers\n",
        "```\n",
        "\n"
      ],
      "metadata": {
        "id": "mxWw7HbmzMmw"
      }
    },
    {
      "cell_type": "code",
      "source": [
        "#Random Tensors\n",
        "random_tensor = torch.rand(5, 4,6)\n",
        "random_tensor"
      ],
      "metadata": {
        "id": "EaYwXa4dVNws",
        "colab": {
          "base_uri": "https://localhost:8080/"
        },
        "outputId": "4fcf2697-e6b4-45a2-9ba4-974987d6edaf"
      },
      "execution_count": 18,
      "outputs": [
        {
          "output_type": "execute_result",
          "data": {
            "text/plain": [
              "tensor([[[0.9811, 0.0645, 0.5532, 0.1740, 0.6766, 0.4255],\n",
              "         [0.8584, 0.8601, 0.0686, 0.4524, 0.2530, 0.0186],\n",
              "         [0.9350, 0.8512, 0.4387, 0.0174, 0.2154, 0.3290],\n",
              "         [0.1235, 0.7378, 0.2975, 0.4434, 0.5004, 0.9271]],\n",
              "\n",
              "        [[0.9547, 0.9128, 0.0030, 0.7879, 0.4271, 0.1420],\n",
              "         [0.9942, 0.7418, 0.9109, 0.7143, 0.6479, 0.7329],\n",
              "         [0.4275, 0.9154, 0.1475, 0.1229, 0.2861, 0.2489],\n",
              "         [0.5443, 0.9510, 0.3230, 0.5464, 0.5611, 0.7585]],\n",
              "\n",
              "        [[0.4273, 0.1924, 0.7662, 0.8229, 0.0847, 0.8580],\n",
              "         [0.3942, 0.7734, 0.1778, 0.1386, 0.2671, 0.0540],\n",
              "         [0.8843, 0.7403, 0.0915, 0.1201, 0.0114, 0.7552],\n",
              "         [0.0902, 0.7705, 0.3269, 0.7569, 0.4513, 0.1204]],\n",
              "\n",
              "        [[0.3353, 0.1204, 0.7149, 0.2256, 0.5040, 0.5768],\n",
              "         [0.1973, 0.8047, 0.9259, 0.2637, 0.4550, 0.8037],\n",
              "         [0.0917, 0.8226, 0.1197, 0.2114, 0.7044, 0.5221],\n",
              "         [0.0442, 0.5492, 0.1717, 0.1086, 0.8516, 0.2382]],\n",
              "\n",
              "        [[0.6837, 0.5969, 0.1478, 0.8165, 0.1470, 0.6657],\n",
              "         [0.9180, 0.1449, 0.8158, 0.1440, 0.1312, 0.7071],\n",
              "         [0.6537, 0.2895, 0.8041, 0.2848, 0.9421, 0.7400],\n",
              "         [0.6721, 0.5780, 0.8487, 0.2394, 0.4820, 0.9035]]])"
            ]
          },
          "metadata": {},
          "execution_count": 18
        }
      ]
    },
    {
      "cell_type": "code",
      "source": [
        "random_tensor.ndim"
      ],
      "metadata": {
        "colab": {
          "base_uri": "https://localhost:8080/"
        },
        "id": "esu5yAbq1DNu",
        "outputId": "f8f3a971-34e2-4187-f526-049501d373e5"
      },
      "execution_count": 19,
      "outputs": [
        {
          "output_type": "execute_result",
          "data": {
            "text/plain": [
              "3"
            ]
          },
          "metadata": {},
          "execution_count": 19
        }
      ]
    },
    {
      "cell_type": "code",
      "source": [
        "#Tensor with shape similar to an image\n",
        "random_image_tensor = torch.rand(size =(224,224,3))# height, widht ,color channel\n",
        "random_image_tensor.shape,random_image_tensor.ndim\n",
        "\n",
        "\n",
        "\n"
      ],
      "metadata": {
        "colab": {
          "base_uri": "https://localhost:8080/"
        },
        "id": "pWP-0OVm1KXY",
        "outputId": "6701dde4-3106-4273-c07a-b7e35fe32b2d"
      },
      "execution_count": 20,
      "outputs": [
        {
          "output_type": "execute_result",
          "data": {
            "text/plain": [
              "(torch.Size([224, 224, 3]), 3)"
            ]
          },
          "metadata": {},
          "execution_count": 20
        }
      ]
    },
    {
      "cell_type": "code",
      "source": [
        "CAT_TENSOR = torch.rand(2,7,2,2)\n",
        "CAT_TENSOR"
      ],
      "metadata": {
        "colab": {
          "base_uri": "https://localhost:8080/"
        },
        "id": "Wk26RMnf2p-W",
        "outputId": "a4e4fe91-884a-4de4-8410-16564fedb8a5"
      },
      "execution_count": 21,
      "outputs": [
        {
          "output_type": "execute_result",
          "data": {
            "text/plain": [
              "tensor([[[[0.7536, 0.3232],\n",
              "          [0.7587, 0.1482]],\n",
              "\n",
              "         [[0.4872, 0.2476],\n",
              "          [0.1711, 0.2862]],\n",
              "\n",
              "         [[0.7111, 0.5250],\n",
              "          [0.9705, 0.8118]],\n",
              "\n",
              "         [[0.8761, 0.1973],\n",
              "          [0.1536, 0.8655]],\n",
              "\n",
              "         [[0.2480, 0.9608],\n",
              "          [0.0405, 0.0414]],\n",
              "\n",
              "         [[0.8451, 0.7969],\n",
              "          [0.3506, 0.2986]],\n",
              "\n",
              "         [[0.5667, 0.1389],\n",
              "          [0.7931, 0.2623]]],\n",
              "\n",
              "\n",
              "        [[[0.5726, 0.6537],\n",
              "          [0.2053, 0.6522]],\n",
              "\n",
              "         [[0.4027, 0.5529],\n",
              "          [0.6269, 0.8200]],\n",
              "\n",
              "         [[0.8840, 0.1091],\n",
              "          [0.5568, 0.9892]],\n",
              "\n",
              "         [[0.4805, 0.8709],\n",
              "          [0.2896, 0.3200]],\n",
              "\n",
              "         [[0.7595, 0.7415],\n",
              "          [0.9584, 0.8659]],\n",
              "\n",
              "         [[0.4460, 0.4690],\n",
              "          [0.9541, 0.2686]],\n",
              "\n",
              "         [[0.4609, 0.8400],\n",
              "          [0.3140, 0.5260]]]])"
            ]
          },
          "metadata": {},
          "execution_count": 21
        }
      ]
    },
    {
      "cell_type": "code",
      "source": [
        "CAT_TENSOR.ndim, CAT_TENSOR.shape"
      ],
      "metadata": {
        "colab": {
          "base_uri": "https://localhost:8080/"
        },
        "id": "LDejk3VA3V41",
        "outputId": "6f5cd9b9-f9ab-4605-ce5b-8c2a16e90b47"
      },
      "execution_count": 22,
      "outputs": [
        {
          "output_type": "execute_result",
          "data": {
            "text/plain": [
              "(4, torch.Size([2, 7, 2, 2]))"
            ]
          },
          "metadata": {},
          "execution_count": 22
        }
      ]
    },
    {
      "cell_type": "code",
      "source": [
        "PAINT_IMAGE = torch.rand(size=(155,155,1))"
      ],
      "metadata": {
        "id": "ntJjjyM13aTM"
      },
      "execution_count": 23,
      "outputs": []
    },
    {
      "cell_type": "code",
      "source": [
        "PAINT_IMAGE.ndim, PAINT_IMAGE.shape"
      ],
      "metadata": {
        "colab": {
          "base_uri": "https://localhost:8080/"
        },
        "id": "XjCbDj_e4P7f",
        "outputId": "02424fe4-8141-45d0-e154-2e32c2f60757"
      },
      "execution_count": 24,
      "outputs": [
        {
          "output_type": "execute_result",
          "data": {
            "text/plain": [
              "(3, torch.Size([155, 155, 1]))"
            ]
          },
          "metadata": {},
          "execution_count": 24
        }
      ]
    },
    {
      "cell_type": "markdown",
      "source": [
        "**ZEROS AND ONES**"
      ],
      "metadata": {
        "id": "-M9L6TSx4bEo"
      }
    },
    {
      "cell_type": "code",
      "source": [
        "Zeros = torch.zeros(5,4,6)\n",
        "Zeros"
      ],
      "metadata": {
        "colab": {
          "base_uri": "https://localhost:8080/"
        },
        "id": "SFhj6_-v4VcU",
        "outputId": "446d7d58-3996-48f7-a322-4d6e213a1462"
      },
      "execution_count": 25,
      "outputs": [
        {
          "output_type": "execute_result",
          "data": {
            "text/plain": [
              "tensor([[[0., 0., 0., 0., 0., 0.],\n",
              "         [0., 0., 0., 0., 0., 0.],\n",
              "         [0., 0., 0., 0., 0., 0.],\n",
              "         [0., 0., 0., 0., 0., 0.]],\n",
              "\n",
              "        [[0., 0., 0., 0., 0., 0.],\n",
              "         [0., 0., 0., 0., 0., 0.],\n",
              "         [0., 0., 0., 0., 0., 0.],\n",
              "         [0., 0., 0., 0., 0., 0.]],\n",
              "\n",
              "        [[0., 0., 0., 0., 0., 0.],\n",
              "         [0., 0., 0., 0., 0., 0.],\n",
              "         [0., 0., 0., 0., 0., 0.],\n",
              "         [0., 0., 0., 0., 0., 0.]],\n",
              "\n",
              "        [[0., 0., 0., 0., 0., 0.],\n",
              "         [0., 0., 0., 0., 0., 0.],\n",
              "         [0., 0., 0., 0., 0., 0.],\n",
              "         [0., 0., 0., 0., 0., 0.]],\n",
              "\n",
              "        [[0., 0., 0., 0., 0., 0.],\n",
              "         [0., 0., 0., 0., 0., 0.],\n",
              "         [0., 0., 0., 0., 0., 0.],\n",
              "         [0., 0., 0., 0., 0., 0.]]])"
            ]
          },
          "metadata": {},
          "execution_count": 25
        }
      ]
    },
    {
      "cell_type": "code",
      "source": [
        "Zeros*random_tensor"
      ],
      "metadata": {
        "colab": {
          "base_uri": "https://localhost:8080/"
        },
        "id": "rA6SwCmO4lCU",
        "outputId": "c1433f6c-8bc2-4326-a238-fee871f82f76"
      },
      "execution_count": 26,
      "outputs": [
        {
          "output_type": "execute_result",
          "data": {
            "text/plain": [
              "tensor([[[0., 0., 0., 0., 0., 0.],\n",
              "         [0., 0., 0., 0., 0., 0.],\n",
              "         [0., 0., 0., 0., 0., 0.],\n",
              "         [0., 0., 0., 0., 0., 0.]],\n",
              "\n",
              "        [[0., 0., 0., 0., 0., 0.],\n",
              "         [0., 0., 0., 0., 0., 0.],\n",
              "         [0., 0., 0., 0., 0., 0.],\n",
              "         [0., 0., 0., 0., 0., 0.]],\n",
              "\n",
              "        [[0., 0., 0., 0., 0., 0.],\n",
              "         [0., 0., 0., 0., 0., 0.],\n",
              "         [0., 0., 0., 0., 0., 0.],\n",
              "         [0., 0., 0., 0., 0., 0.]],\n",
              "\n",
              "        [[0., 0., 0., 0., 0., 0.],\n",
              "         [0., 0., 0., 0., 0., 0.],\n",
              "         [0., 0., 0., 0., 0., 0.],\n",
              "         [0., 0., 0., 0., 0., 0.]],\n",
              "\n",
              "        [[0., 0., 0., 0., 0., 0.],\n",
              "         [0., 0., 0., 0., 0., 0.],\n",
              "         [0., 0., 0., 0., 0., 0.],\n",
              "         [0., 0., 0., 0., 0., 0.]]])"
            ]
          },
          "metadata": {},
          "execution_count": 26
        }
      ]
    },
    {
      "cell_type": "code",
      "source": [
        "Ones = torch.ones(size=(5,9))\n",
        "Ones"
      ],
      "metadata": {
        "colab": {
          "base_uri": "https://localhost:8080/"
        },
        "id": "-HwmTtY-4ibm",
        "outputId": "8b1d640c-6702-4ae7-c49f-a675f75d97e2"
      },
      "execution_count": 27,
      "outputs": [
        {
          "output_type": "execute_result",
          "data": {
            "text/plain": [
              "tensor([[1., 1., 1., 1., 1., 1., 1., 1., 1.],\n",
              "        [1., 1., 1., 1., 1., 1., 1., 1., 1.],\n",
              "        [1., 1., 1., 1., 1., 1., 1., 1., 1.],\n",
              "        [1., 1., 1., 1., 1., 1., 1., 1., 1.],\n",
              "        [1., 1., 1., 1., 1., 1., 1., 1., 1.]])"
            ]
          },
          "metadata": {},
          "execution_count": 27
        }
      ]
    },
    {
      "cell_type": "code",
      "source": [
        "numbers = torch.arange(1000,1000000,10000)\n",
        "numbers"
      ],
      "metadata": {
        "colab": {
          "base_uri": "https://localhost:8080/"
        },
        "id": "u0Zj6M985RCN",
        "outputId": "afd9e137-f72c-4cfb-cbb3-4b6db4ade729"
      },
      "execution_count": 28,
      "outputs": [
        {
          "output_type": "execute_result",
          "data": {
            "text/plain": [
              "tensor([  1000,  11000,  21000,  31000,  41000,  51000,  61000,  71000,  81000,\n",
              "         91000, 101000, 111000, 121000, 131000, 141000, 151000, 161000, 171000,\n",
              "        181000, 191000, 201000, 211000, 221000, 231000, 241000, 251000, 261000,\n",
              "        271000, 281000, 291000, 301000, 311000, 321000, 331000, 341000, 351000,\n",
              "        361000, 371000, 381000, 391000, 401000, 411000, 421000, 431000, 441000,\n",
              "        451000, 461000, 471000, 481000, 491000, 501000, 511000, 521000, 531000,\n",
              "        541000, 551000, 561000, 571000, 581000, 591000, 601000, 611000, 621000,\n",
              "        631000, 641000, 651000, 661000, 671000, 681000, 691000, 701000, 711000,\n",
              "        721000, 731000, 741000, 751000, 761000, 771000, 781000, 791000, 801000,\n",
              "        811000, 821000, 831000, 841000, 851000, 861000, 871000, 881000, 891000,\n",
              "        901000, 911000, 921000, 931000, 941000, 951000, 961000, 971000, 981000,\n",
              "        991000])"
            ]
          },
          "metadata": {},
          "execution_count": 28
        }
      ]
    },
    {
      "cell_type": "code",
      "source": [
        "#Creating tensosr like (A tensor with the shpae like another or previous tensor)\n",
        "numbers_zeros = torch.zeros_like(input=numbers)\n",
        "numbers_zeros"
      ],
      "metadata": {
        "colab": {
          "base_uri": "https://localhost:8080/"
        },
        "id": "Sgq9OPgN5pqC",
        "outputId": "de7d5de4-e9d9-4d18-cfa0-e43f217c613c"
      },
      "execution_count": 29,
      "outputs": [
        {
          "output_type": "execute_result",
          "data": {
            "text/plain": [
              "tensor([0, 0, 0, 0, 0, 0, 0, 0, 0, 0, 0, 0, 0, 0, 0, 0, 0, 0, 0, 0, 0, 0, 0, 0,\n",
              "        0, 0, 0, 0, 0, 0, 0, 0, 0, 0, 0, 0, 0, 0, 0, 0, 0, 0, 0, 0, 0, 0, 0, 0,\n",
              "        0, 0, 0, 0, 0, 0, 0, 0, 0, 0, 0, 0, 0, 0, 0, 0, 0, 0, 0, 0, 0, 0, 0, 0,\n",
              "        0, 0, 0, 0, 0, 0, 0, 0, 0, 0, 0, 0, 0, 0, 0, 0, 0, 0, 0, 0, 0, 0, 0, 0,\n",
              "        0, 0, 0, 0])"
            ]
          },
          "metadata": {},
          "execution_count": 29
        }
      ]
    },
    {
      "cell_type": "code",
      "source": [
        "numbers_ones = torch.ones_like(input=numbers)\n",
        "numbers_ones"
      ],
      "metadata": {
        "colab": {
          "base_uri": "https://localhost:8080/"
        },
        "id": "sxZC7GTs6tiq",
        "outputId": "bc146486-67d5-47fe-8ce7-ecbb3bb9b89f"
      },
      "execution_count": 30,
      "outputs": [
        {
          "output_type": "execute_result",
          "data": {
            "text/plain": [
              "tensor([1, 1, 1, 1, 1, 1, 1, 1, 1, 1, 1, 1, 1, 1, 1, 1, 1, 1, 1, 1, 1, 1, 1, 1,\n",
              "        1, 1, 1, 1, 1, 1, 1, 1, 1, 1, 1, 1, 1, 1, 1, 1, 1, 1, 1, 1, 1, 1, 1, 1,\n",
              "        1, 1, 1, 1, 1, 1, 1, 1, 1, 1, 1, 1, 1, 1, 1, 1, 1, 1, 1, 1, 1, 1, 1, 1,\n",
              "        1, 1, 1, 1, 1, 1, 1, 1, 1, 1, 1, 1, 1, 1, 1, 1, 1, 1, 1, 1, 1, 1, 1, 1,\n",
              "        1, 1, 1, 1])"
            ]
          },
          "metadata": {},
          "execution_count": 30
        }
      ]
    },
    {
      "cell_type": "markdown",
      "source": [
        "**TENSOR DATATYPES**"
      ],
      "metadata": {
        "id": "q_fBZYfW7Aum"
      }
    },
    {
      "cell_type": "code",
      "source": [
        "FLOAT_32_TENSOR = torch.tensor([3.0, 6.0, 9.0],\n",
        "                               dtype=None,# tensor datatype\n",
        "                               device='cpu', # devive of tensor\n",
        "                               requires_grad=False) # track gradient or not\n",
        "FLOAT_32_TENSOR"
      ],
      "metadata": {
        "colab": {
          "base_uri": "https://localhost:8080/"
        },
        "id": "mOZqSfwX69dd",
        "outputId": "5ab07f7c-2676-4335-e53e-6760b3a8718d"
      },
      "execution_count": 31,
      "outputs": [
        {
          "output_type": "execute_result",
          "data": {
            "text/plain": [
              "tensor([3., 6., 9.])"
            ]
          },
          "metadata": {},
          "execution_count": 31
        }
      ]
    },
    {
      "cell_type": "code",
      "source": [
        "FLOAT_32_TENSOR.dtype"
      ],
      "metadata": {
        "id": "5pXCPsDX7N-6",
        "colab": {
          "base_uri": "https://localhost:8080/"
        },
        "outputId": "27d15d6b-e6d5-4a25-a716-dedff481659b"
      },
      "execution_count": 32,
      "outputs": [
        {
          "output_type": "execute_result",
          "data": {
            "text/plain": [
              "torch.float32"
            ]
          },
          "metadata": {},
          "execution_count": 32
        }
      ]
    },
    {
      "cell_type": "code",
      "source": [
        "#CHANGE TENSOR DYTPE\n",
        "FLOAT_16_TENSOR = FLOAT_32_TENSOR.type(torch.float16)\n",
        "FLOAT_16_TENSOR"
      ],
      "metadata": {
        "colab": {
          "base_uri": "https://localhost:8080/"
        },
        "id": "bdJr76b7AtwV",
        "outputId": "be75cc2d-0479-4f43-f015-615e7656db8e"
      },
      "execution_count": 33,
      "outputs": [
        {
          "output_type": "execute_result",
          "data": {
            "text/plain": [
              "tensor([3., 6., 9.], dtype=torch.float16)"
            ]
          },
          "metadata": {},
          "execution_count": 33
        }
      ]
    },
    {
      "cell_type": "code",
      "source": [
        "from typing import Tuple\n",
        "new_tensor = torch.tensor([[1,7],[6,8]],\n",
        "                          dtype=None,\n",
        "                          device='cpu',\n",
        "                          requires_grad=False)\n",
        "new_tensor.dtype"
      ],
      "metadata": {
        "colab": {
          "base_uri": "https://localhost:8080/"
        },
        "id": "V852alaRBBNU",
        "outputId": "772d29c0-8df2-4e6e-99f5-71440f662131"
      },
      "execution_count": 34,
      "outputs": [
        {
          "output_type": "execute_result",
          "data": {
            "text/plain": [
              "torch.int64"
            ]
          },
          "metadata": {},
          "execution_count": 34
        }
      ]
    },
    {
      "cell_type": "code",
      "source": [
        "sample_tensor = torch.empty((5,8), dtype=torch.int8, requires_grad=False)\n",
        "sample_tensor"
      ],
      "metadata": {
        "colab": {
          "base_uri": "https://localhost:8080/"
        },
        "id": "cFS5ZBfaDYRG",
        "outputId": "738b5c66-1428-4ab4-8b4c-c92724b45907"
      },
      "execution_count": 35,
      "outputs": [
        {
          "output_type": "execute_result",
          "data": {
            "text/plain": [
              "tensor([[ -65, -112,   52,   34,    0,    0,    0,    0],\n",
              "        [   0,    0,    0,    0,    1,    0,    0,    0],\n",
              "        [   0,    0,    0,    0,    0,    0,    0,    0],\n",
              "        [  97,    0,    0,    0,    0,    0,    0,    0],\n",
              "        [ -32,  -69,   37,   34,    0,    0,    0,    0]], dtype=torch.int8)"
            ]
          },
          "metadata": {},
          "execution_count": 35
        }
      ]
    },
    {
      "cell_type": "code",
      "source": [
        "sample_tensor = sample_tensor.type(torch.cdouble)\n",
        "sample_tensor"
      ],
      "metadata": {
        "colab": {
          "base_uri": "https://localhost:8080/"
        },
        "id": "LMCLF-M6IVK8",
        "outputId": "9971f10a-c4c5-4219-a23a-086f80f0fed5"
      },
      "execution_count": 36,
      "outputs": [
        {
          "output_type": "execute_result",
          "data": {
            "text/plain": [
              "tensor([[ -65.+0.j, -112.+0.j,   52.+0.j,   34.+0.j,    0.+0.j,    0.+0.j,    0.+0.j,    0.+0.j],\n",
              "        [   0.+0.j,    0.+0.j,    0.+0.j,    0.+0.j,    1.+0.j,    0.+0.j,    0.+0.j,    0.+0.j],\n",
              "        [   0.+0.j,    0.+0.j,    0.+0.j,    0.+0.j,    0.+0.j,    0.+0.j,    0.+0.j,    0.+0.j],\n",
              "        [  97.+0.j,    0.+0.j,    0.+0.j,    0.+0.j,    0.+0.j,    0.+0.j,    0.+0.j,    0.+0.j],\n",
              "        [ -32.+0.j,  -69.+0.j,   37.+0.j,   34.+0.j,    0.+0.j,    0.+0.j,    0.+0.j,    0.+0.j]],\n",
              "       dtype=torch.complex128)"
            ]
          },
          "metadata": {},
          "execution_count": 36
        }
      ]
    },
    {
      "cell_type": "markdown",
      "source": [
        "*`torch.empty` for creating placeholder tensors.\n",
        "`torch.tensor` for creating actual tensor with real data *"
      ],
      "metadata": {
        "id": "Ww81Ui5rHrzk"
      }
    },
    {
      "cell_type": "code",
      "source": [
        "FLOAT_16_TENSOR*FLOAT_32_TENSOR"
      ],
      "metadata": {
        "colab": {
          "base_uri": "https://localhost:8080/"
        },
        "id": "tNU7O7IwFxzg",
        "outputId": "014fde23-df32-449a-c4e2-7323503251ed"
      },
      "execution_count": 37,
      "outputs": [
        {
          "output_type": "execute_result",
          "data": {
            "text/plain": [
              "tensor([ 9., 36., 81.])"
            ]
          },
          "metadata": {},
          "execution_count": 37
        }
      ]
    },
    {
      "cell_type": "code",
      "source": [
        "sample2 = torch.ones_like(input=sample_tensor)\n",
        "sample2"
      ],
      "metadata": {
        "colab": {
          "base_uri": "https://localhost:8080/"
        },
        "id": "q_iMVlAOILYt",
        "outputId": "5628ceb8-cda8-4686-ceec-106ea096fe65"
      },
      "execution_count": 38,
      "outputs": [
        {
          "output_type": "execute_result",
          "data": {
            "text/plain": [
              "tensor([[1.+0.j, 1.+0.j, 1.+0.j, 1.+0.j, 1.+0.j, 1.+0.j, 1.+0.j, 1.+0.j],\n",
              "        [1.+0.j, 1.+0.j, 1.+0.j, 1.+0.j, 1.+0.j, 1.+0.j, 1.+0.j, 1.+0.j],\n",
              "        [1.+0.j, 1.+0.j, 1.+0.j, 1.+0.j, 1.+0.j, 1.+0.j, 1.+0.j, 1.+0.j],\n",
              "        [1.+0.j, 1.+0.j, 1.+0.j, 1.+0.j, 1.+0.j, 1.+0.j, 1.+0.j, 1.+0.j],\n",
              "        [1.+0.j, 1.+0.j, 1.+0.j, 1.+0.j, 1.+0.j, 1.+0.j, 1.+0.j, 1.+0.j]],\n",
              "       dtype=torch.complex128)"
            ]
          },
          "metadata": {},
          "execution_count": 38
        }
      ]
    },
    {
      "cell_type": "code",
      "source": [
        "sample2 = sample2.type(torch.int)\n",
        "sample2"
      ],
      "metadata": {
        "colab": {
          "base_uri": "https://localhost:8080/"
        },
        "id": "4YQbazT1JbR1",
        "outputId": "bd0492b0-b8a8-4aa3-f090-24d0c91e8950"
      },
      "execution_count": 39,
      "outputs": [
        {
          "output_type": "stream",
          "name": "stderr",
          "text": [
            "/tmp/ipython-input-4053803223.py:1: UserWarning: Casting complex values to real discards the imaginary part (Triggered internally at /pytorch/aten/src/ATen/native/Copy.cpp:307.)\n",
            "  sample2 = sample2.type(torch.int)\n"
          ]
        },
        {
          "output_type": "execute_result",
          "data": {
            "text/plain": [
              "tensor([[1, 1, 1, 1, 1, 1, 1, 1],\n",
              "        [1, 1, 1, 1, 1, 1, 1, 1],\n",
              "        [1, 1, 1, 1, 1, 1, 1, 1],\n",
              "        [1, 1, 1, 1, 1, 1, 1, 1],\n",
              "        [1, 1, 1, 1, 1, 1, 1, 1]], dtype=torch.int32)"
            ]
          },
          "metadata": {},
          "execution_count": 39
        }
      ]
    },
    {
      "cell_type": "code",
      "source": [
        "sample_tensor*sample2"
      ],
      "metadata": {
        "colab": {
          "base_uri": "https://localhost:8080/"
        },
        "id": "6nnwS6DmJho0",
        "outputId": "0ea18f80-5e76-4e76-8ea7-a2da30d38b3e"
      },
      "execution_count": 40,
      "outputs": [
        {
          "output_type": "execute_result",
          "data": {
            "text/plain": [
              "tensor([[ -65.+0.j, -112.+0.j,   52.+0.j,   34.+0.j,    0.+0.j,    0.+0.j,    0.+0.j,    0.+0.j],\n",
              "        [   0.+0.j,    0.+0.j,    0.+0.j,    0.+0.j,    1.+0.j,    0.+0.j,    0.+0.j,    0.+0.j],\n",
              "        [   0.+0.j,    0.+0.j,    0.+0.j,    0.+0.j,    0.+0.j,    0.+0.j,    0.+0.j,    0.+0.j],\n",
              "        [  97.+0.j,    0.+0.j,    0.+0.j,    0.+0.j,    0.+0.j,    0.+0.j,    0.+0.j,    0.+0.j],\n",
              "        [ -32.+0.j,  -69.+0.j,   37.+0.j,   34.+0.j,    0.+0.j,    0.+0.j,    0.+0.j,    0.+0.j]],\n",
              "       dtype=torch.complex128)"
            ]
          },
          "metadata": {},
          "execution_count": 40
        }
      ]
    },
    {
      "cell_type": "markdown",
      "source": [
        " **TOP ERRORS **\n",
        "1. TENSOR NOT RIGHT DATATYPE\n",
        "2. TENSOR NOT RIGHT SHAPE\n",
        "3. TENSOR NOT ON THE RIGHT DEVICE"
      ],
      "metadata": {
        "id": "4q4yJ35OL5to"
      }
    },
    {
      "cell_type": "code",
      "source": [
        "#GETTING INFO FROM TENSORS\n",
        "a_tensor = torch.rand(5,3)\n",
        "a_tensor"
      ],
      "metadata": {
        "colab": {
          "base_uri": "https://localhost:8080/"
        },
        "id": "jHA_qrwdJ1qe",
        "outputId": "a07fadb6-6c54-4b74-d798-2814a6b61200"
      },
      "execution_count": 41,
      "outputs": [
        {
          "output_type": "execute_result",
          "data": {
            "text/plain": [
              "tensor([[0.3093, 0.9419, 0.0808],\n",
              "        [0.0418, 0.4213, 0.8888],\n",
              "        [0.1732, 0.6234, 0.7599],\n",
              "        [0.5966, 0.4153, 0.6687],\n",
              "        [0.9593, 0.5283, 0.6383]])"
            ]
          },
          "metadata": {},
          "execution_count": 41
        }
      ]
    },
    {
      "cell_type": "code",
      "source": [
        "print(f\"Datatype of tensor: {a_tensor.dtype}\")\n",
        "print(f\"Shape of tensor: {a_tensor.shape}\")\n",
        "print(f\"Device of tensor: {a_tensor.device}\")"
      ],
      "metadata": {
        "colab": {
          "base_uri": "https://localhost:8080/"
        },
        "id": "dp1JLQksMOtX",
        "outputId": "c61aa068-4054-431e-8a76-fba7bd66d234"
      },
      "execution_count": 42,
      "outputs": [
        {
          "output_type": "stream",
          "name": "stdout",
          "text": [
            "Datatype of tensor: torch.float32\n",
            "Shape of tensor: torch.Size([5, 3])\n",
            "Device of tensor: cpu\n"
          ]
        }
      ]
    },
    {
      "cell_type": "code",
      "source": [
        "# CHANGING DEVICE OF TENSOR\n",
        "a_tensor = a_tensor.to(device='cpu')\n",
        "print(f\"Device of tensor: {a_tensor.device}\")"
      ],
      "metadata": {
        "id": "Y3G3cluDNFSa",
        "colab": {
          "base_uri": "https://localhost:8080/"
        },
        "outputId": "2083e6fd-f4cc-4e9f-9fef-8bc83a722ed2"
      },
      "execution_count": 43,
      "outputs": [
        {
          "output_type": "stream",
          "name": "stdout",
          "text": [
            "Device of tensor: cpu\n"
          ]
        }
      ]
    },
    {
      "cell_type": "code",
      "source": [
        "## ADDITION OF TENSORS\n",
        "mani_t = torch.tensor([[1,6],[2,8]])\n",
        "mani_t = mani_t + 3"
      ],
      "metadata": {
        "id": "Kow5BKjUN0E5"
      },
      "execution_count": 45,
      "outputs": []
    },
    {
      "cell_type": "code",
      "source": [
        "#MULTIPLY TENSORS\n",
        "mani_t * 3"
      ],
      "metadata": {
        "colab": {
          "base_uri": "https://localhost:8080/"
        },
        "id": "RBi5uAKfOlAp",
        "outputId": "28c0a004-afc2-4179-f372-40d833157ef4"
      },
      "execution_count": 46,
      "outputs": [
        {
          "output_type": "execute_result",
          "data": {
            "text/plain": [
              "tensor([[12, 27],\n",
              "        [15, 33]])"
            ]
          },
          "metadata": {},
          "execution_count": 46
        }
      ]
    },
    {
      "cell_type": "code",
      "source": [
        "mani_t"
      ],
      "metadata": {
        "colab": {
          "base_uri": "https://localhost:8080/"
        },
        "id": "nV-gROQtPgln",
        "outputId": "8990863e-b09b-429c-9193-61b232073a01"
      },
      "execution_count": 47,
      "outputs": [
        {
          "output_type": "execute_result",
          "data": {
            "text/plain": [
              "tensor([[ 4,  9],\n",
              "        [ 5, 11]])"
            ]
          },
          "metadata": {},
          "execution_count": 47
        }
      ]
    },
    {
      "cell_type": "code",
      "source": [
        "#SUBTRACT\n",
        "mani_t - 15"
      ],
      "metadata": {
        "colab": {
          "base_uri": "https://localhost:8080/"
        },
        "id": "jTbveA37PuIQ",
        "outputId": "ca1f8d60-74be-4209-843c-00b250d6eea1"
      },
      "execution_count": 48,
      "outputs": [
        {
          "output_type": "execute_result",
          "data": {
            "text/plain": [
              "tensor([[-11,  -6],\n",
              "        [-10,  -4]])"
            ]
          },
          "metadata": {},
          "execution_count": 48
        }
      ]
    },
    {
      "cell_type": "code",
      "source": [
        "#MATRIX FUNCTIONS\n",
        "torch.mul(mani_t, 1)"
      ],
      "metadata": {
        "colab": {
          "base_uri": "https://localhost:8080/"
        },
        "id": "5ZArr89pP8Wj",
        "outputId": "ccdbe6b6-c403-4d44-f9de-69b6e2ab9e06"
      },
      "execution_count": 49,
      "outputs": [
        {
          "output_type": "execute_result",
          "data": {
            "text/plain": [
              "tensor([[ 4,  9],\n",
              "        [ 5, 11]])"
            ]
          },
          "metadata": {},
          "execution_count": 49
        }
      ]
    },
    {
      "cell_type": "code",
      "source": [
        "## MATRIX MULTIPLICATION\n",
        "#ELEMENT WISE\n",
        "print(mani_t ,\"*\" , mani_t)\n",
        "print(f\"Equals: {mani_t * mani_t}\")"
      ],
      "metadata": {
        "colab": {
          "base_uri": "https://localhost:8080/"
        },
        "id": "QKS_UEF2QNNq",
        "outputId": "b2b42d23-e791-42a9-e2f6-79b0405b9ab6"
      },
      "execution_count": 50,
      "outputs": [
        {
          "output_type": "stream",
          "name": "stdout",
          "text": [
            "tensor([[ 4,  9],\n",
            "        [ 5, 11]]) * tensor([[ 4,  9],\n",
            "        [ 5, 11]])\n",
            "Equals: tensor([[ 16,  81],\n",
            "        [ 25, 121]])\n"
          ]
        }
      ]
    },
    {
      "cell_type": "code",
      "source": [
        "#MATRIX WISE\n",
        "%%time\n",
        "torch.matmul(mani_t, mani_t)"
      ],
      "metadata": {
        "colab": {
          "base_uri": "https://localhost:8080/"
        },
        "id": "zo-X18acVjJ9",
        "outputId": "63d53f40-7753-40ba-815d-69c9b62b2a35"
      },
      "execution_count": 51,
      "outputs": [
        {
          "output_type": "stream",
          "name": "stdout",
          "text": [
            "CPU times: user 1.09 ms, sys: 13 µs, total: 1.1 ms\n",
            "Wall time: 2.68 ms\n"
          ]
        },
        {
          "output_type": "execute_result",
          "data": {
            "text/plain": [
              "tensor([[ 61, 135],\n",
              "        [ 75, 166]])"
            ]
          },
          "metadata": {},
          "execution_count": 51
        }
      ]
    },
    {
      "cell_type": "code",
      "source": [
        "%%time\n",
        "#MATRIX WISE\n",
        "torch.matmul(mani_t, mani_t)"
      ],
      "metadata": {
        "id": "hLUj8TY0We3X",
        "colab": {
          "base_uri": "https://localhost:8080/"
        },
        "outputId": "e2cfa369-dc24-4396-e0a3-25595032125c"
      },
      "execution_count": 52,
      "outputs": [
        {
          "output_type": "stream",
          "name": "stdout",
          "text": [
            "CPU times: user 265 µs, sys: 0 ns, total: 265 µs\n",
            "Wall time: 520 µs\n"
          ]
        },
        {
          "output_type": "execute_result",
          "data": {
            "text/plain": [
              "tensor([[ 61, 135],\n",
              "        [ 75, 166]])"
            ]
          },
          "metadata": {},
          "execution_count": 52
        }
      ]
    },
    {
      "cell_type": "code",
      "source": [
        "#OR torch.mm()\n",
        "\n",
        "#OR\n",
        "\n",
        "mani_t @ mani_t"
      ],
      "metadata": {
        "colab": {
          "base_uri": "https://localhost:8080/"
        },
        "id": "FUxrc2ShZs9m",
        "outputId": "600d7c61-2208-4849-8bfa-d9fcba3fbd43"
      },
      "execution_count": 53,
      "outputs": [
        {
          "output_type": "execute_result",
          "data": {
            "text/plain": [
              "tensor([[ 61, 135],\n",
              "        [ 75, 166]])"
            ]
          },
          "metadata": {},
          "execution_count": 53
        }
      ]
    },
    {
      "cell_type": "code",
      "source": [
        "torch.matmul(torch.rand(4,3), torch.rand(3,5))"
      ],
      "metadata": {
        "colab": {
          "base_uri": "https://localhost:8080/"
        },
        "id": "ZEAo9e7xb5ko",
        "outputId": "118bdae7-1664-4716-bcf7-0679a2985f99"
      },
      "execution_count": 54,
      "outputs": [
        {
          "output_type": "execute_result",
          "data": {
            "text/plain": [
              "tensor([[0.5904, 0.6106, 0.7230, 1.0140, 0.7750],\n",
              "        [0.9624, 1.2848, 0.9540, 1.0303, 0.9580],\n",
              "        [0.2903, 0.3022, 0.1862, 0.2783, 0.2834],\n",
              "        [0.8596, 0.8960, 0.5016, 0.7586, 0.8103]])"
            ]
          },
          "metadata": {},
          "execution_count": 54
        }
      ]
    },
    {
      "cell_type": "code",
      "source": [
        "#TENSOR SHAPE ERRORS\n",
        "one_t = torch.rand(2,3)\n",
        "two_t = torch.rand(2,3)\n",
        "one_t , two_t"
      ],
      "metadata": {
        "colab": {
          "base_uri": "https://localhost:8080/"
        },
        "id": "6dQFPs7qc6qo",
        "outputId": "9e6f0f6b-4658-4ed3-c806-0ea2a034e21a"
      },
      "execution_count": 55,
      "outputs": [
        {
          "output_type": "execute_result",
          "data": {
            "text/plain": [
              "(tensor([[0.5013, 0.1835, 0.2279],\n",
              "         [0.7925, 0.5980, 0.6643]]),\n",
              " tensor([[0.7263, 0.2175, 0.9765],\n",
              "         [0.2826, 0.7087, 0.3884]]))"
            ]
          },
          "metadata": {},
          "execution_count": 55
        }
      ]
    },
    {
      "cell_type": "code",
      "source": [
        "torch.matmul(one_t, two_t)"
      ],
      "metadata": {
        "colab": {
          "base_uri": "https://localhost:8080/",
          "height": 141
        },
        "id": "1h0o2fyEgaeW",
        "outputId": "6e4b66a9-895e-4cd2-8b93-57ea58eb4a66"
      },
      "execution_count": 56,
      "outputs": [
        {
          "output_type": "error",
          "ename": "RuntimeError",
          "evalue": "mat1 and mat2 shapes cannot be multiplied (2x3 and 2x3)",
          "traceback": [
            "\u001b[0;31m---------------------------------------------------------------------------\u001b[0m",
            "\u001b[0;31mRuntimeError\u001b[0m                              Traceback (most recent call last)",
            "\u001b[0;32m/tmp/ipython-input-2820708983.py\u001b[0m in \u001b[0;36m<cell line: 0>\u001b[0;34m()\u001b[0m\n\u001b[0;32m----> 1\u001b[0;31m \u001b[0mtorch\u001b[0m\u001b[0;34m.\u001b[0m\u001b[0mmatmul\u001b[0m\u001b[0;34m(\u001b[0m\u001b[0mone_t\u001b[0m\u001b[0;34m,\u001b[0m \u001b[0mtwo_t\u001b[0m\u001b[0;34m)\u001b[0m\u001b[0;34m\u001b[0m\u001b[0;34m\u001b[0m\u001b[0m\n\u001b[0m",
            "\u001b[0;31mRuntimeError\u001b[0m: mat1 and mat2 shapes cannot be multiplied (2x3 and 2x3)"
          ]
        }
      ]
    },
    {
      "cell_type": "code",
      "source": [
        "#TRANSPOSE\n",
        "two_t.T @ one_t"
      ],
      "metadata": {
        "colab": {
          "base_uri": "https://localhost:8080/"
        },
        "id": "o4LXhr32geM_",
        "outputId": "d2b15f33-e1cc-4074-a6ce-1e6501227b3a"
      },
      "execution_count": 57,
      "outputs": [
        {
          "output_type": "execute_result",
          "data": {
            "text/plain": [
              "tensor([[0.5881, 0.3023, 0.3533],\n",
              "        [0.6707, 0.4638, 0.5204],\n",
              "        [0.7973, 0.4115, 0.4806]])"
            ]
          },
          "metadata": {},
          "execution_count": 57
        }
      ]
    },
    {
      "cell_type": "code",
      "source": [
        "print(f'Original matrices: \\n Tensor 1: {one_t} \\n Tensor 2: {two_t}')\n",
        "print(f'Transpose Tensor 2: {two_t.T}')"
      ],
      "metadata": {
        "colab": {
          "base_uri": "https://localhost:8080/"
        },
        "id": "lYW-hCWygtRE",
        "outputId": "3b5d3450-31d4-465f-b383-50dbada95ab0"
      },
      "execution_count": 58,
      "outputs": [
        {
          "output_type": "stream",
          "name": "stdout",
          "text": [
            "Original matrices: \n",
            " Tensor 1: tensor([[0.5013, 0.1835, 0.2279],\n",
            "        [0.7925, 0.5980, 0.6643]]) \n",
            " Tensor 2: tensor([[0.7263, 0.2175, 0.9765],\n",
            "        [0.2826, 0.7087, 0.3884]])\n",
            "Transpose Tensor 2: tensor([[0.7263, 0.2826],\n",
            "        [0.2175, 0.7087],\n",
            "        [0.9765, 0.3884]])\n"
          ]
        }
      ]
    },
    {
      "cell_type": "markdown",
      "source": [
        "**TENSOR AGGREGATION**"
      ],
      "metadata": {
        "id": "Kcpm_GrqjSJV"
      }
    },
    {
      "cell_type": "code",
      "source": [
        "X = torch.arange(15,100,8)\n",
        "X"
      ],
      "metadata": {
        "colab": {
          "base_uri": "https://localhost:8080/"
        },
        "id": "HVwhRjrnhwMh",
        "outputId": "56631847-5adf-4267-9020-f95b1d89ea52"
      },
      "execution_count": 59,
      "outputs": [
        {
          "output_type": "execute_result",
          "data": {
            "text/plain": [
              "tensor([15, 23, 31, 39, 47, 55, 63, 71, 79, 87, 95])"
            ]
          },
          "metadata": {},
          "execution_count": 59
        }
      ]
    },
    {
      "cell_type": "code",
      "source": [
        "#find min\n",
        "torch.min(X),  X.min()"
      ],
      "metadata": {
        "colab": {
          "base_uri": "https://localhost:8080/"
        },
        "id": "Pfg3sU8MjhFN",
        "outputId": "0ea00910-d577-4b2e-ba36-fc5f3f598443"
      },
      "execution_count": 60,
      "outputs": [
        {
          "output_type": "execute_result",
          "data": {
            "text/plain": [
              "(tensor(15), tensor(15))"
            ]
          },
          "metadata": {},
          "execution_count": 60
        }
      ]
    },
    {
      "cell_type": "code",
      "source": [
        "#find max\n",
        "torch.max(X), X.max()"
      ],
      "metadata": {
        "colab": {
          "base_uri": "https://localhost:8080/"
        },
        "id": "_LNr8Ve1joVj",
        "outputId": "e96e34da-ecfd-49a8-dafe-d8941af06d83"
      },
      "execution_count": 61,
      "outputs": [
        {
          "output_type": "execute_result",
          "data": {
            "text/plain": [
              "(tensor(95), tensor(95))"
            ]
          },
          "metadata": {},
          "execution_count": 61
        }
      ]
    },
    {
      "cell_type": "code",
      "source": [
        "#find mean\n",
        "torch.mean(X.type(torch.float32)), X.type(torch.float32).mean()"
      ],
      "metadata": {
        "colab": {
          "base_uri": "https://localhost:8080/"
        },
        "id": "5LbgrPsDjyGH",
        "outputId": "3ac73cb4-d2dd-4718-9c6f-6a5bb1d7c418"
      },
      "execution_count": 62,
      "outputs": [
        {
          "output_type": "execute_result",
          "data": {
            "text/plain": [
              "(tensor(55.), tensor(55.))"
            ]
          },
          "metadata": {},
          "execution_count": 62
        }
      ]
    },
    {
      "cell_type": "code",
      "source": [
        "#find sum\n",
        "X.sum(), torch.sum(X)"
      ],
      "metadata": {
        "colab": {
          "base_uri": "https://localhost:8080/"
        },
        "id": "dx7-r0LxkF_k",
        "outputId": "09fb2939-a5e8-4e1b-b9c1-6909f3ee84b5"
      },
      "execution_count": 63,
      "outputs": [
        {
          "output_type": "execute_result",
          "data": {
            "text/plain": [
              "(tensor(605), tensor(605))"
            ]
          },
          "metadata": {},
          "execution_count": 63
        }
      ]
    },
    {
      "cell_type": "code",
      "source": [
        "#find argmin\n",
        "X.argmin(), torch.argmin(X)"
      ],
      "metadata": {
        "colab": {
          "base_uri": "https://localhost:8080/"
        },
        "id": "cptK_qftkjzm",
        "outputId": "411132c6-b826-40db-8c21-67ac30676cbf"
      },
      "execution_count": 64,
      "outputs": [
        {
          "output_type": "execute_result",
          "data": {
            "text/plain": [
              "(tensor(0), tensor(0))"
            ]
          },
          "metadata": {},
          "execution_count": 64
        }
      ]
    },
    {
      "cell_type": "code",
      "source": [
        "#find argmax\n",
        "X.argmax(), torch.argmax(X)"
      ],
      "metadata": {
        "colab": {
          "base_uri": "https://localhost:8080/"
        },
        "id": "bMG9xna_k10j",
        "outputId": "632325d6-21dd-4ce9-d51f-4a7729912f18"
      },
      "execution_count": 65,
      "outputs": [
        {
          "output_type": "execute_result",
          "data": {
            "text/plain": [
              "(tensor(10), tensor(10))"
            ]
          },
          "metadata": {},
          "execution_count": 65
        }
      ]
    },
    {
      "cell_type": "markdown",
      "source": [
        "**RESHAPING, STACKING, SQUEEZING AND UNSQUEEZING TENSORS**"
      ],
      "metadata": {
        "id": "5qKHxSlVl8JL"
      }
    },
    {
      "cell_type": "code",
      "source": [
        "X, X.shape"
      ],
      "metadata": {
        "id": "HCEJMwRWlNcJ",
        "colab": {
          "base_uri": "https://localhost:8080/"
        },
        "outputId": "86416fd1-722e-4d98-b9ba-d4a234f503b9"
      },
      "execution_count": 66,
      "outputs": [
        {
          "output_type": "execute_result",
          "data": {
            "text/plain": [
              "(tensor([15, 23, 31, 39, 47, 55, 63, 71, 79, 87, 95]), torch.Size([11]))"
            ]
          },
          "metadata": {},
          "execution_count": 66
        }
      ]
    },
    {
      "cell_type": "code",
      "source": [
        "#Reshape has to be compatible with the original size\n",
        "X_reshape = X.reshape(1, 11, 1)\n",
        "X_reshape"
      ],
      "metadata": {
        "colab": {
          "base_uri": "https://localhost:8080/"
        },
        "id": "XUwfg29b2Ilm",
        "outputId": "8cbdaabd-4332-4a20-e4e5-c0245358e438"
      },
      "execution_count": 67,
      "outputs": [
        {
          "output_type": "execute_result",
          "data": {
            "text/plain": [
              "tensor([[[15],\n",
              "         [23],\n",
              "         [31],\n",
              "         [39],\n",
              "         [47],\n",
              "         [55],\n",
              "         [63],\n",
              "         [71],\n",
              "         [79],\n",
              "         [87],\n",
              "         [95]]])"
            ]
          },
          "metadata": {},
          "execution_count": 67
        }
      ]
    },
    {
      "cell_type": "code",
      "source": [
        "#View\n",
        "#Changins Z changes X because a view of a tensor shares the same memory as the original tensor\n",
        "Z = X.view(11,1)\n",
        "print(f\"The view of X is Z: \\n{Z}\")\n",
        "\n",
        "Z[3] = -3\n",
        "print(f\"\\n\\nX after making changes to Z is: {X}\")\n",
        "\n"
      ],
      "metadata": {
        "colab": {
          "base_uri": "https://localhost:8080/"
        },
        "id": "ra99eZ2i4HtC",
        "outputId": "7e2ab719-f909-4cfc-dbfd-328d511d4725"
      },
      "execution_count": 68,
      "outputs": [
        {
          "output_type": "stream",
          "name": "stdout",
          "text": [
            "The view of X is Z: \n",
            "tensor([[15],\n",
            "        [23],\n",
            "        [31],\n",
            "        [39],\n",
            "        [47],\n",
            "        [55],\n",
            "        [63],\n",
            "        [71],\n",
            "        [79],\n",
            "        [87],\n",
            "        [95]])\n",
            "\n",
            "\n",
            "X after making changes to Z is: tensor([15, 23, 31, -3, 47, 55, 63, 71, 79, 87, 95])\n"
          ]
        }
      ]
    },
    {
      "cell_type": "code",
      "source": [
        "#Stack\n",
        "X_stack = torch.stack([X,X], dim=1)\n",
        "X_stack"
      ],
      "metadata": {
        "id": "Vov92jIt6UNs",
        "colab": {
          "base_uri": "https://localhost:8080/"
        },
        "outputId": "6c1aac4c-526a-4337-c66a-23268080f095"
      },
      "execution_count": 69,
      "outputs": [
        {
          "output_type": "execute_result",
          "data": {
            "text/plain": [
              "tensor([[15, 15],\n",
              "        [23, 23],\n",
              "        [31, 31],\n",
              "        [-3, -3],\n",
              "        [47, 47],\n",
              "        [55, 55],\n",
              "        [63, 63],\n",
              "        [71, 71],\n",
              "        [79, 79],\n",
              "        [87, 87],\n",
              "        [95, 95]])"
            ]
          },
          "metadata": {},
          "execution_count": 69
        }
      ]
    },
    {
      "cell_type": "code",
      "source": [
        "#Squeeze\n",
        "A = torch.squeeze(X_reshape)\n",
        "A"
      ],
      "metadata": {
        "id": "CqYOaRBc8elB",
        "colab": {
          "base_uri": "https://localhost:8080/"
        },
        "outputId": "f9e53693-ff34-4bb7-ab6e-15237ed420bf"
      },
      "execution_count": 70,
      "outputs": [
        {
          "output_type": "execute_result",
          "data": {
            "text/plain": [
              "tensor([15, 23, 31, -3, 47, 55, 63, 71, 79, 87, 95])"
            ]
          },
          "metadata": {},
          "execution_count": 70
        }
      ]
    },
    {
      "cell_type": "code",
      "source": [
        "#Unsqueeze doesn't necessarily undo the squeeze, it adds a dimension whether vertical or horizontal\n",
        "torch.unsqueeze(A, dim=1)"
      ],
      "metadata": {
        "colab": {
          "base_uri": "https://localhost:8080/"
        },
        "id": "lvBWcn0kAhR4",
        "outputId": "295173c9-af10-4940-db49-79a897b93b72"
      },
      "execution_count": 71,
      "outputs": [
        {
          "output_type": "execute_result",
          "data": {
            "text/plain": [
              "tensor([[15],\n",
              "        [23],\n",
              "        [31],\n",
              "        [-3],\n",
              "        [47],\n",
              "        [55],\n",
              "        [63],\n",
              "        [71],\n",
              "        [79],\n",
              "        [87],\n",
              "        [95]])"
            ]
          },
          "metadata": {},
          "execution_count": 71
        }
      ]
    },
    {
      "cell_type": "code",
      "source": [
        "#PERMUTE\n",
        "# for scarmbling or rearranging dimentions\n",
        "original = torch.rand(size=(1,224,224,3))\n",
        "original_permute = original.permute(0,3,1,2)# 2, 0, 1 represent the various dimensions\n",
        "original_permute.shape"
      ],
      "metadata": {
        "colab": {
          "base_uri": "https://localhost:8080/"
        },
        "id": "_U5hQGEJAzer",
        "outputId": "b092aff3-e3aa-48ae-8ebf-b14806f531c5"
      },
      "execution_count": 72,
      "outputs": [
        {
          "output_type": "execute_result",
          "data": {
            "text/plain": [
              "torch.Size([1, 3, 224, 224])"
            ]
          },
          "metadata": {},
          "execution_count": 72
        }
      ]
    },
    {
      "cell_type": "markdown",
      "source": [
        "**INDEXING**"
      ],
      "metadata": {
        "id": "LoYCRX2NE-DM"
      }
    },
    {
      "cell_type": "code",
      "source": [
        "Y = torch.arange(-3, 66, 4).reshape(1,3,6)\n",
        "Y"
      ],
      "metadata": {
        "colab": {
          "base_uri": "https://localhost:8080/"
        },
        "id": "_-9NDlfIELYc",
        "outputId": "69818ad7-6579-4bbb-a74a-d13b91a651fd"
      },
      "execution_count": 73,
      "outputs": [
        {
          "output_type": "execute_result",
          "data": {
            "text/plain": [
              "tensor([[[-3,  1,  5,  9, 13, 17],\n",
              "         [21, 25, 29, 33, 37, 41],\n",
              "         [45, 49, 53, 57, 61, 65]]])"
            ]
          },
          "metadata": {},
          "execution_count": 73
        }
      ]
    },
    {
      "cell_type": "code",
      "source": [
        "Y[0,0,4]"
      ],
      "metadata": {
        "colab": {
          "base_uri": "https://localhost:8080/"
        },
        "id": "1K8zmoyCFM5q",
        "outputId": "06841a0d-c832-46fd-b28d-7cc588ed9792"
      },
      "execution_count": 74,
      "outputs": [
        {
          "output_type": "execute_result",
          "data": {
            "text/plain": [
              "tensor(13)"
            ]
          },
          "metadata": {},
          "execution_count": 74
        }
      ]
    },
    {
      "cell_type": "code",
      "source": [
        "Y[:,1,:]"
      ],
      "metadata": {
        "colab": {
          "base_uri": "https://localhost:8080/"
        },
        "id": "xIiA9ToKF3TQ",
        "outputId": "2864fd16-6c82-4640-f16a-7572fa20de97"
      },
      "execution_count": 75,
      "outputs": [
        {
          "output_type": "execute_result",
          "data": {
            "text/plain": [
              "tensor([[21, 25, 29, 33, 37, 41]])"
            ]
          },
          "metadata": {},
          "execution_count": 75
        }
      ]
    },
    {
      "cell_type": "markdown",
      "source": [
        "**PYTORCH TENSORS & NUMPY**"
      ],
      "metadata": {
        "id": "YH2YrtAJI-UO"
      }
    },
    {
      "cell_type": "code",
      "source": [
        "#FROM NUMPY TO TENSOR\n",
        "import numpy as np\n",
        "\n",
        "arr = np.arange(17,55,2)\n",
        "arr"
      ],
      "metadata": {
        "colab": {
          "base_uri": "https://localhost:8080/"
        },
        "id": "ShuHKIbTGt5-",
        "outputId": "fa173097-6352-41ee-b832-d8d55448e0f3"
      },
      "execution_count": 76,
      "outputs": [
        {
          "output_type": "execute_result",
          "data": {
            "text/plain": [
              "array([17, 19, 21, 23, 25, 27, 29, 31, 33, 35, 37, 39, 41, 43, 45, 47, 49,\n",
              "       51, 53])"
            ]
          },
          "metadata": {},
          "execution_count": 76
        }
      ]
    },
    {
      "cell_type": "code",
      "source": [
        "#Note: 1. Tensor takes default dtype of np array i.e. float64 unless changed manually.\n",
        "#2. Changes made to array after conversion do not affect tensor\n",
        "tensor1 = torch.from_numpy(arr)\n",
        "tensor1"
      ],
      "metadata": {
        "colab": {
          "base_uri": "https://localhost:8080/"
        },
        "id": "RJ4mqEZkJTl5",
        "outputId": "edf49a82-fb8d-4d23-a77c-b81ed2ef1810"
      },
      "execution_count": 77,
      "outputs": [
        {
          "output_type": "execute_result",
          "data": {
            "text/plain": [
              "tensor([17, 19, 21, 23, 25, 27, 29, 31, 33, 35, 37, 39, 41, 43, 45, 47, 49, 51,\n",
              "        53])"
            ]
          },
          "metadata": {},
          "execution_count": 77
        }
      ]
    },
    {
      "cell_type": "code",
      "source": [
        "#Tensor to numpy\n",
        "tensor2 = torch.ones(2,5)\n",
        "tensor2"
      ],
      "metadata": {
        "colab": {
          "base_uri": "https://localhost:8080/"
        },
        "id": "4ysbf9OBJfxf",
        "outputId": "088b7b79-094a-4460-a028-0cb5e74dafb6"
      },
      "execution_count": 78,
      "outputs": [
        {
          "output_type": "execute_result",
          "data": {
            "text/plain": [
              "tensor([[1., 1., 1., 1., 1.],\n",
              "        [1., 1., 1., 1., 1.]])"
            ]
          },
          "metadata": {},
          "execution_count": 78
        }
      ]
    },
    {
      "cell_type": "code",
      "source": [
        "#Note: 1. np array takes default dtype of tensor i.e. float32 unless changed manually.\n",
        "numpy_tensor = tensor2.numpy()\n",
        "numpy_tensor"
      ],
      "metadata": {
        "colab": {
          "base_uri": "https://localhost:8080/"
        },
        "id": "B9reIdrTKtYV",
        "outputId": "938130fc-d94e-464a-f738-1fa41a5f57c0"
      },
      "execution_count": 79,
      "outputs": [
        {
          "output_type": "execute_result",
          "data": {
            "text/plain": [
              "array([[1., 1., 1., 1., 1.],\n",
              "       [1., 1., 1., 1., 1.]], dtype=float32)"
            ]
          },
          "metadata": {},
          "execution_count": 79
        }
      ]
    },
    {
      "cell_type": "markdown",
      "source": [
        "REPRODUCIBILITY (NOT SO RANDOM RANDOMNESS)"
      ],
      "metadata": {
        "id": "ysn2CcRAP09a"
      }
    },
    {
      "cell_type": "code",
      "source": [
        "#RANDOM TNSORS\n",
        "random_1 = torch.rand(3,3)\n",
        "rand0m_2 = torch.rand(3,3)\n",
        "print(random_1)\n",
        "print(rand0m_2)\n",
        "print(random_1 == rand0m_2)"
      ],
      "metadata": {
        "id": "EMJkZXl-K2IK",
        "colab": {
          "base_uri": "https://localhost:8080/"
        },
        "outputId": "aa2b23b0-ec75-4efb-e1b2-85f60acec8fc"
      },
      "execution_count": 80,
      "outputs": [
        {
          "output_type": "stream",
          "name": "stdout",
          "text": [
            "tensor([[0.8718, 0.6135, 0.5741],\n",
            "        [0.9472, 0.0660, 0.1360],\n",
            "        [0.5689, 0.7477, 0.4681]])\n",
            "tensor([[0.7920, 0.7413, 0.0611],\n",
            "        [0.2316, 0.6231, 0.2513],\n",
            "        [0.5449, 0.4632, 0.2488]])\n",
            "tensor([[False, False, False],\n",
            "        [False, False, False],\n",
            "        [False, False, False]])\n"
          ]
        }
      ]
    },
    {
      "cell_type": "code",
      "source": [
        "#REPRODUCIBLE\n",
        "Random_seed = 15\n",
        "torch.manual_seed(Random_seed)\n",
        "random_3 = torch.rand(3,3)\n",
        "torch.manual_seed(Random_seed)\n",
        "random_4 = torch.rand(3,3)\n",
        "print(random_3)\n",
        "print(random_4)\n",
        "print(random_3 == random_4)"
      ],
      "metadata": {
        "colab": {
          "base_uri": "https://localhost:8080/"
        },
        "id": "1Xz9Dq2nQlZl",
        "outputId": "dbaf6a38-0352-4364-f8a5-ca1305ed8a92"
      },
      "execution_count": 81,
      "outputs": [
        {
          "output_type": "stream",
          "name": "stdout",
          "text": [
            "tensor([[0.2973, 0.2766, 0.7974],\n",
            "        [0.3869, 0.9170, 0.4125],\n",
            "        [0.5538, 0.5646, 0.5026]])\n",
            "tensor([[0.2973, 0.2766, 0.7974],\n",
            "        [0.3869, 0.9170, 0.4125],\n",
            "        [0.5538, 0.5646, 0.5026]])\n",
            "tensor([[True, True, True],\n",
            "        [True, True, True],\n",
            "        [True, True, True]])\n"
          ]
        }
      ]
    },
    {
      "cell_type": "code",
      "source": [
        "random_3"
      ],
      "metadata": {
        "id": "Mn1BWgLkScE8",
        "colab": {
          "base_uri": "https://localhost:8080/"
        },
        "outputId": "9e8c81bb-c21a-40f0-f843-e3c459839bd0"
      },
      "execution_count": 82,
      "outputs": [
        {
          "output_type": "execute_result",
          "data": {
            "text/plain": [
              "tensor([[0.2973, 0.2766, 0.7974],\n",
              "        [0.3869, 0.9170, 0.4125],\n",
              "        [0.5538, 0.5646, 0.5026]])"
            ]
          },
          "metadata": {},
          "execution_count": 82
        }
      ]
    },
    {
      "cell_type": "code",
      "source": [
        "#Set up device agnostic code\n",
        "device = \"cuda\" if torch.cuda.is_availabe() else \"cpu\"\n",
        "device"
      ],
      "metadata": {
        "colab": {
          "base_uri": "https://localhost:8080/",
          "height": 176
        },
        "id": "ArzzLYdDQXzm",
        "outputId": "4ea2fe3f-7fbf-4599-d128-069fc5aaed22"
      },
      "execution_count": 83,
      "outputs": [
        {
          "output_type": "error",
          "ename": "AttributeError",
          "evalue": "module 'torch.cuda' has no attribute 'is_availabe'",
          "traceback": [
            "\u001b[0;31m---------------------------------------------------------------------------\u001b[0m",
            "\u001b[0;31mAttributeError\u001b[0m                            Traceback (most recent call last)",
            "\u001b[0;32m/tmp/ipython-input-3294131667.py\u001b[0m in \u001b[0;36m<cell line: 0>\u001b[0;34m()\u001b[0m\n\u001b[1;32m      1\u001b[0m \u001b[0;31m#Set up device agnostic code\u001b[0m\u001b[0;34m\u001b[0m\u001b[0;34m\u001b[0m\u001b[0m\n\u001b[0;32m----> 2\u001b[0;31m \u001b[0mdevice\u001b[0m \u001b[0;34m=\u001b[0m \u001b[0;34m\"cuda\"\u001b[0m \u001b[0;32mif\u001b[0m \u001b[0mtorch\u001b[0m\u001b[0;34m.\u001b[0m\u001b[0mcuda\u001b[0m\u001b[0;34m.\u001b[0m\u001b[0mis_availabe\u001b[0m\u001b[0;34m(\u001b[0m\u001b[0;34m)\u001b[0m \u001b[0;32melse\u001b[0m \u001b[0;34m\"cpu\"\u001b[0m\u001b[0;34m\u001b[0m\u001b[0;34m\u001b[0m\u001b[0m\n\u001b[0m\u001b[1;32m      3\u001b[0m \u001b[0mdevice\u001b[0m\u001b[0;34m\u001b[0m\u001b[0;34m\u001b[0m\u001b[0m\n",
            "\u001b[0;31mAttributeError\u001b[0m: module 'torch.cuda' has no attribute 'is_availabe'"
          ]
        }
      ]
    },
    {
      "cell_type": "code",
      "source": [
        "tensor = torch.tensor([1,2,3])\n",
        "\n",
        "print(tensor, tensor.device)"
      ],
      "metadata": {
        "colab": {
          "base_uri": "https://localhost:8080/"
        },
        "id": "5zNaiNNdSaIo",
        "outputId": "952fb7b1-758d-4bf3-d543-993fee1e851c"
      },
      "execution_count": 85,
      "outputs": [
        {
          "output_type": "stream",
          "name": "stdout",
          "text": [
            "tensor([1, 2, 3]) cpu\n"
          ]
        }
      ]
    },
    {
      "cell_type": "code",
      "source": [],
      "metadata": {
        "id": "AiH6N5tTZKK7"
      },
      "execution_count": null,
      "outputs": []
    }
  ]
}